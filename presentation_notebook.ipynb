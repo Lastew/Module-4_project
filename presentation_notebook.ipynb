{
 "cells": [
  {
   "cell_type": "markdown",
   "metadata": {},
   "source": [
    "# Predicting  chance of admission at the University of California Los Angeles (UCLA)"
   ]
  },
  {
   "cell_type": "markdown",
   "metadata": {},
   "source": [
    "## Key Questions"
   ]
  },
  {
   "cell_type": "markdown",
   "metadata": {},
   "source": [
    "**High Level Objective**\n",
    "Explore the effect of student performance on the chance of getting accepted at one of the UCLA graduate programs.\n",
    "\n",
    "**Questions**\n",
    "\n",
    "1. Does having a higher cumulative GPA increase the chance of acceptance? \n",
    "2. How likely is higher TOEFL and GRE score gives a higher admission rate?\n",
    "3. How is a good GPA relates to higher TOEFL And GRE scores? \n",
    "\n",
    "Based on these questions, we will formulate the next linear regression model to better help camps administrators and students check their chance of admission without sacrificing a lot of time. "
   ]
  },
  {
   "cell_type": "markdown",
   "metadata": {},
   "source": [
    "## Methodology and Data Source\n",
    "\n",
    "**Methodology**    \n",
    "For this project purpose, we follow this methodology:\n",
    "1. Check the resulted R-squared value from the ordinary lists square (OLS) model. \n",
    "2. Compare the R-squared measure returned from statsmodels and Scikit-learn.\n",
    "3. Compare all with Ridge and Lasso regularization\n",
    "\n",
    "\n",
    "**Data Source**    \n",
    "We get the data from [kaggel](https://www.kaggle.com/mohansacharya/graduate-admissions)."
   ]
  },
  {
   "cell_type": "markdown",
   "metadata": {},
   "source": [
    "## Findings Summary"
   ]
  },
  {
   "cell_type": "markdown",
   "metadata": {},
   "source": [
    "- Graduate admission at UCLA is heavily correlated with cumulative GPA, TOEFL and GRE scores. \n",
    "- Linear regression is the most apealing regression model for this dataset. \n",
    "\n",
    "<img src=\"img/heatmap.png\">"
   ]
  },
  {
   "cell_type": "markdown",
   "metadata": {},
   "source": [
    "### Question 2\n",
    "\n",
    "This questions looks at whether Republicans and Democrats in the House of Representatives vote yes in the same proportion.\n",
    "\n",
    "We find that there is not a compelling difference in proportion 'yes' votes of Republicans and Democrats in the House of Representatives\n",
    "\n",
    "As a next step, we would want to look at the differences in voting on certain topics.\n",
    "\n",
    "<img src=\"img/hypothesis_two.png\">"
   ]
  },
  {
   "cell_type": "markdown",
   "metadata": {},
   "source": [
    "### Question 3\n",
    "\n",
    "This questions looks at whether Republicans and Democrats in the Senate vote yes in the same proportion.\n",
    "\n",
    "We find that there is not a compelling difference in proportion 'yes' votes of Republicans and Democrats in the Senate.\n",
    "\n",
    "As a next step, we would want to look at the differences in voting on certain topics.\n",
    "\n",
    "<img src=\"img/hypothesis_three.png\">"
   ]
  },
  {
   "cell_type": "markdown",
   "metadata": {},
   "source": [
    "### Question 4\n",
    "\n",
    "This questions looks at whether Republicans and Democrats in Congress abstain from voting in the same proportion.\n",
    "\n",
    "We find that there is a compelling difference in proportion of votes for which Republicans and Democrats abstain from voting.  Specifically, Democracts have a higher proportion of votes for which they have abstained, on average.\n",
    "\n",
    "As a next step, we would want to compare the proportion of votes for which members abstain across chambers.\n",
    "\n",
    "<img src=\"img/hypothesis_four.png\">"
   ]
  },
  {
   "cell_type": "markdown",
   "metadata": {},
   "source": [
    "### Question 5\n",
    "\n",
    "This questions looks at whether members of the House of Representatives and Senate abstain from voting in the same proportion.\n",
    "\n",
    "We find that there is a compelling difference in proportion of votes for which House and Senate members abstain from voting. Specifically, members of the House of Representatives have a higher proportion of votes for which they have abstained, on average.\n",
    "\n",
    "<img src=\"img/hypothesis_five.png\">"
   ]
  },
  {
   "cell_type": "markdown",
   "metadata": {},
   "source": [
    "### Question 6\n",
    "\n",
    "This questions looks at whether Republicans and Democrats in the House of Representatives abstain from voting in the same proportion.\n",
    "\n",
    "We find that there is not a compelling difference in proportion of votes for which Republicans and Democrats abstain from voting in the House of Representatives.  Specifically, Democracts have a higher proportion of votes for which they have abstained, on average.\n",
    "\n",
    "As a next step, we would want to compare the proportion of votes for which members abstain on certain topics.\n",
    "\n",
    "<img src=\"img/hypothesis_six.png\">"
   ]
  },
  {
   "cell_type": "markdown",
   "metadata": {},
   "source": [
    "### Question 7\n",
    "\n",
    "This questions looks at whether Republicans and Democrats in the Senate abstain from voting in the same proportion.\n",
    "\n",
    "We find that there is a compelling difference in proportion of votes for which Republicans and Democrats abstain from voting in the Senate.  Specifically, Democracts have a higher proportion of votes for which they have abstained, on average.\n",
    "\n",
    "As a next step, we would want to compare the proportion of votes for which members abstain on certain topics.\n",
    "\n",
    "<img src=\"img/hypothesis_seven.png\">"
   ]
  },
  {
   "cell_type": "markdown",
   "metadata": {},
   "source": [
    "## Further Research and Next Steps\n",
    "\n",
    "**Further Research**\n",
    "- Diversity: Look at alternate models for student assessment to find niche students not captured in the traditional model.\n",
    "- Pedagogy: What best predicts students’ outcomes on the key student metrics? How can you improve GPA, GRE score, and TOEFL score?\n",
    "- Outcomes: Is UCLA relying on the right student metrics? Do these metrics predict lifelong success?\n",
    "\n",
    "**Next Step Questions**\n",
    "1. check the interactive effect between GPA, GRE score, and TOEFL scores."
   ]
  },
  {
   "cell_type": "markdown",
   "metadata": {},
   "source": [
    "### We look forward to our continued cooperation and we thank you for your time"
   ]
  }
 ],
 "metadata": {
  "kernelspec": {
   "display_name": "learn-env",
   "language": "python",
   "name": "learn-env"
  },
  "language_info": {
   "codemirror_mode": {
    "name": "ipython",
    "version": 3
   },
   "file_extension": ".py",
   "mimetype": "text/x-python",
   "name": "python",
   "nbconvert_exporter": "python",
   "pygments_lexer": "ipython3",
   "version": "3.6.6"
  }
 },
 "nbformat": 4,
 "nbformat_minor": 2
}
