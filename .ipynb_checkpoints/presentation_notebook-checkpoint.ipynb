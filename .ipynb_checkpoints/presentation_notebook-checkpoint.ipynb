{
 "cells": [
  {
   "cell_type": "markdown",
   "metadata": {},
   "source": [
    "# Predicting  chance of admission at the University of California Los Angeles (UCLA)"
   ]
  },
  {
   "cell_type": "markdown",
   "metadata": {},
   "source": [
    "## Key Questions"
   ]
  },
  {
   "cell_type": "markdown",
   "metadata": {},
   "source": [
    "**High Level Objective**\n",
    "Explore the effect of student performance on the chance of getting accepted at one of the UCLA graduate programs.\n",
    "\n",
    "**Questions**\n",
    "\n",
    "1. Does having a higher cumulative GPA increase the chance of acceptance? \n",
    "2. How likely is higher TOEFL and GRE score gives a higher admission rate?\n",
    "3. How is a good GPA relates to higher TOEFL And GRE scores? \n",
    "\n",
    "Based on these questions, we will formulate the next linear regression model to better help camps administrators and students check their chance of admission without sacrificing a lot of time. "
   ]
  },
  {
   "cell_type": "markdown",
   "metadata": {},
   "source": [
    "## Methodology and Data Source\n",
    "\n",
    "**Methodology**    \n",
    "For this project purpose, we follow this methodology:\n",
    "1. Check the resulted R-squared value from the ordinary lists square (OLS) model. \n",
    "2. Compare the R-squared measure returned from statsmodels and Scikit-learn.\n",
    "3. Compare all with Ridge and Lasso regularization\n",
    "\n",
    "\n",
    "**Data Source**    \n",
    "We get the data from [kaggel](https://www.kaggle.com/mohansacharya/graduate-admissions)."
   ]
  },
  {
   "cell_type": "markdown",
   "metadata": {},
   "source": [
    "## Data exploration"
   ]
  },
  {
   "cell_type": "markdown",
   "metadata": {},
   "source": [
    "The data contains 500 rows and 9 features "
   ]
  },
  {
   "cell_type": "markdown",
   "metadata": {},
   "source": [
    "## Findings Summary"
   ]
  },
  {
   "cell_type": "markdown",
   "metadata": {},
   "source": [
    "- Graduate admission at UCLA is heavily correlated with cumulative GPA, TOEFL and GRE scores. \n",
    "- Linear regression is the most apealing regression model for this dataset. \n",
    "\n",
    "\n",
    "![heatmap](img/heatmap_features.png)"
   ]
  },
  {
   "cell_type": "markdown",
   "metadata": {},
   "source": [
    "## Further Research and Next Steps\n",
    "\n",
    "**Further Research**\n",
    "- Diversity: Look at alternate models for student assessment to find niche students not captured in the traditional model.\n",
    "- Pedagogy: What best predicts students’ outcomes on the key student metrics? How can you improve GPA, GRE score, and TOEFL score?\n",
    "- Outcomes: Is UCLA relying on the right student metrics? Do these metrics predict lifelong success?\n",
    "\n",
    "**Next Step Questions**\n",
    "1. check the interactive effect between GPA, GRE score, and TOEFL scores."
   ]
  }
 ],
 "metadata": {
  "kernelspec": {
   "display_name": "learn-env",
   "language": "python",
   "name": "learn-env"
  },
  "language_info": {
   "codemirror_mode": {
    "name": "ipython",
    "version": 3
   },
   "file_extension": ".py",
   "mimetype": "text/x-python",
   "name": "python",
   "nbconvert_exporter": "python",
   "pygments_lexer": "ipython3",
   "version": "3.6.6"
  }
 },
 "nbformat": 4,
 "nbformat_minor": 2
}
